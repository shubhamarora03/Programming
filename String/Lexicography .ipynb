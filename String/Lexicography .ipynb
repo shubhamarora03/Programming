{
 "cells": [
  {
   "cell_type": "code",
   "execution_count": 1,
   "metadata": {},
   "outputs": [],
   "source": [
    "a = [\"c\",\"cb\",\"cba\"]"
   ]
  },
  {
   "cell_type": "code",
   "execution_count": 2,
   "metadata": {},
   "outputs": [
    {
     "data": {
      "text/plain": [
       "['cba', 'cb', 'c']"
      ]
     },
     "execution_count": 2,
     "metadata": {},
     "output_type": "execute_result"
    }
   ],
   "source": [
    "a.sort(reverse=True) #descending order\n",
    "a"
   ]
  },
  {
   "cell_type": "code",
   "execution_count": 3,
   "metadata": {},
   "outputs": [
    {
     "data": {
      "text/plain": [
       "['c', 'cb', 'cba']"
      ]
     },
     "execution_count": 3,
     "metadata": {},
     "output_type": "execute_result"
    }
   ],
   "source": [
    "a.sort(reverse=False) #ascending order\n",
    "a"
   ]
  },
  {
   "cell_type": "markdown",
   "metadata": {},
   "source": [
    "Lexicography order, also known as aplhabetical order or dictationary order.\n",
    "\n",
    "https://www.geeksforgeeks.org/lexicographically-smallest-and-largest-substring-of-size-k/"
   ]
  },
  {
   "cell_type": "code",
   "execution_count": 4,
   "metadata": {},
   "outputs": [
    {
     "name": "stdout",
     "output_type": "stream",
     "text": [
      "4\n",
      "a b c d\n"
     ]
    }
   ],
   "source": [
    "N = int(input())\n",
    "array = list(input().split())"
   ]
  },
  {
   "cell_type": "markdown",
   "metadata": {},
   "source": [
    "# Monk and Nice strings"
   ]
  },
  {
   "cell_type": "code",
   "execution_count": 11,
   "metadata": {},
   "outputs": [
    {
     "name": "stdout",
     "output_type": "stream",
     "text": [
      "4\n",
      "a\n",
      "c\n",
      "d\n",
      "b\n",
      "Output : 0\n",
      "i value : 1\n",
      "j value : 0\n",
      "Output : 1\n",
      "i value : 2\n",
      "j value : 0\n",
      "i value : 2\n",
      "j value : 1\n",
      "Output : 2\n",
      "i value : 3\n",
      "j value : 0\n",
      "i value : 3\n",
      "j value : 1\n",
      "i value : 3\n",
      "j value : 2\n",
      "Output : 1\n"
     ]
    }
   ],
   "source": [
    "array =[]\n",
    "n = int(input())\n",
    "for _ in range(n):\n",
    "    array.append(input())\n",
    "for i in range(n):\n",
    "    count = 0\n",
    "    for j in range(0,i,+1):\n",
    "        print('i value :',i)\n",
    "        print('j value :',j)\n",
    "        if array[i]>array[j]:\n",
    "            count+=1\n",
    "    print('Output :',count)"
   ]
  },
  {
   "cell_type": "markdown",
   "metadata": {},
   "source": [
    "# Monk and Suffix Sort"
   ]
  },
  {
   "cell_type": "code",
   "execution_count": 12,
   "metadata": {},
   "outputs": [
    {
     "name": "stdout",
     "output_type": "stream",
     "text": [
      "shubham\n",
      "4\n"
     ]
    }
   ],
   "source": [
    "# sort and pick the nth element\n",
    "string = input()\n",
    "N = int(input())"
   ]
  },
  {
   "cell_type": "code",
   "execution_count": 13,
   "metadata": {},
   "outputs": [],
   "source": [
    "arr = []\n",
    "for i in range(len(string)):\n",
    "    arr.append(string[i:len(string)])"
   ]
  },
  {
   "cell_type": "code",
   "execution_count": 14,
   "metadata": {},
   "outputs": [
    {
     "data": {
      "text/plain": [
       "['shubham', 'hubham', 'ubham', 'bham', 'ham', 'am', 'm']"
      ]
     },
     "execution_count": 14,
     "metadata": {},
     "output_type": "execute_result"
    }
   ],
   "source": [
    "arr"
   ]
  },
  {
   "cell_type": "code",
   "execution_count": 15,
   "metadata": {},
   "outputs": [],
   "source": [
    "arr.sort(reverse=False)"
   ]
  },
  {
   "cell_type": "code",
   "execution_count": 16,
   "metadata": {},
   "outputs": [
    {
     "data": {
      "text/plain": [
       "['am', 'bham', 'ham', 'hubham', 'm', 'shubham', 'ubham']"
      ]
     },
     "execution_count": 16,
     "metadata": {},
     "output_type": "execute_result"
    }
   ],
   "source": [
    "arr"
   ]
  },
  {
   "cell_type": "code",
   "execution_count": 17,
   "metadata": {},
   "outputs": [
    {
     "data": {
      "text/plain": [
       "'hubham'"
      ]
     },
     "execution_count": 17,
     "metadata": {},
     "output_type": "execute_result"
    }
   ],
   "source": [
    "arr[N-1]"
   ]
  },
  {
   "cell_type": "code",
   "execution_count": 18,
   "metadata": {},
   "outputs": [
    {
     "name": "stdout",
     "output_type": "stream",
     "text": [
      "shubham 4\n",
      "hubham\n"
     ]
    }
   ],
   "source": [
    "string , k = map(str,input().split())\n",
    "k = int(k)\n",
    "arr = []\n",
    "for i in range(len(string)):\n",
    "    arr.append(string[i:len(string)])\n",
    "arr.sort(reverse=False)\n",
    "print(arr[k-1])"
   ]
  },
  {
   "cell_type": "code",
   "execution_count": null,
   "metadata": {},
   "outputs": [],
   "source": []
  }
 ],
 "metadata": {
  "kernelspec": {
   "display_name": "Python 3",
   "language": "python",
   "name": "python3"
  },
  "language_info": {
   "codemirror_mode": {
    "name": "ipython",
    "version": 3
   },
   "file_extension": ".py",
   "mimetype": "text/x-python",
   "name": "python",
   "nbconvert_exporter": "python",
   "pygments_lexer": "ipython3",
   "version": "3.6.5"
  }
 },
 "nbformat": 4,
 "nbformat_minor": 2
}
