{
 "cells": [
  {
   "cell_type": "markdown",
   "metadata": {},
   "source": [
    "https://www.geeksforgeeks.org/largest-sum-contiguous-subarray/"
   ]
  },
  {
   "cell_type": "markdown",
   "metadata": {},
   "source": [
    "https://www.youtube.com/watch?v=86CQq3pKSUw"
   ]
  },
  {
   "cell_type": "markdown",
   "metadata": {},
   "source": [
    "# Largest Sum Contiguous Subarray"
   ]
  },
  {
   "cell_type": "code",
   "execution_count": 1,
   "metadata": {},
   "outputs": [],
   "source": [
    "def Kadane(array):\n",
    "    max_current = array[0]\n",
    "    max_global  = array[0]\n",
    "    \n",
    "    for i in range(1,len(array)):\n",
    "        max_current = max(array[i],max_current+array[i])\n",
    "        max_global  = max(max_current,max_global)\n",
    "    return max_global"
   ]
  },
  {
   "cell_type": "code",
   "execution_count": 2,
   "metadata": {},
   "outputs": [
    {
     "name": "stdout",
     "output_type": "stream",
     "text": [
      "-2 -3 4 -1 -2 1 5 -3\n",
      "Maximum Contagious Sum is 7\n"
     ]
    }
   ],
   "source": [
    "#Fetching input \n",
    "a = list(map(int,input().split()))\n",
    "print(\"Maximum Contagious Sum is\",Kadane(a))"
   ]
  },
  {
   "cell_type": "code",
   "execution_count": null,
   "metadata": {},
   "outputs": [],
   "source": []
  }
 ],
 "metadata": {
  "kernelspec": {
   "display_name": "Python 3",
   "language": "python",
   "name": "python3"
  },
  "language_info": {
   "codemirror_mode": {
    "name": "ipython",
    "version": 3
   },
   "file_extension": ".py",
   "mimetype": "text/x-python",
   "name": "python",
   "nbconvert_exporter": "python",
   "pygments_lexer": "ipython3",
   "version": "3.6.5"
  }
 },
 "nbformat": 4,
 "nbformat_minor": 2
}
