{
 "cells": [
  {
   "cell_type": "markdown",
   "metadata": {},
   "source": [
    "# Adding two Aarrays element by element"
   ]
  },
  {
   "cell_type": "code",
   "execution_count": 5,
   "metadata": {},
   "outputs": [
    {
     "name": "stdout",
     "output_type": "stream",
     "text": [
      "3\n",
      "3 4 5\n",
      "6 7 8\n",
      "9 11 13 "
     ]
    }
   ],
   "source": [
    "N = int(input())\n",
    "\n",
    "#Get the Array\n",
    "numArray1 = list(map(int,input().split()))\n",
    "numArray2 = list(map(int,input().split()))\n",
    "\n",
    "sumArray=[]\n",
    "\n",
    "for i in range(N):\n",
    "    sumArray.append(numArray1[i]+numArray2[i])\n",
    "    \n",
    "for element in sumArray:\n",
    "    print(element,end=\" \") # if we have print in one line having spaces"
   ]
  },
  {
   "cell_type": "code",
   "execution_count": 6,
   "metadata": {},
   "outputs": [
    {
     "name": "stdout",
     "output_type": "stream",
     "text": [
      "3\n",
      "3 4 5\n",
      "6 7 8\n",
      "9\n",
      "11\n",
      "13\n",
      "\n"
     ]
    }
   ],
   "source": [
    "N = int(input())\n",
    "\n",
    "#Get the Array\n",
    "numArray1 = list(map(int,input().split()))\n",
    "numArray2 = list(map(int,input().split()))\n",
    "\n",
    "sumArray=[]\n",
    "\n",
    "for i in range(N):\n",
    "    sumArray.append(numArray1[i]+numArray2[i])\n",
    "    \n",
    "for element in sumArray:\n",
    "    print(element) \n",
    "    \n",
    "print(\"\") # if we have to print in new line everytime"
   ]
  },
  {
   "cell_type": "code",
   "execution_count": null,
   "metadata": {},
   "outputs": [],
   "source": []
  }
 ],
 "metadata": {
  "kernelspec": {
   "display_name": "Python 3",
   "language": "python",
   "name": "python3"
  },
  "language_info": {
   "codemirror_mode": {
    "name": "ipython",
    "version": 3
   },
   "file_extension": ".py",
   "mimetype": "text/x-python",
   "name": "python",
   "nbconvert_exporter": "python",
   "pygments_lexer": "ipython3",
   "version": "3.6.5"
  }
 },
 "nbformat": 4,
 "nbformat_minor": 2
}
